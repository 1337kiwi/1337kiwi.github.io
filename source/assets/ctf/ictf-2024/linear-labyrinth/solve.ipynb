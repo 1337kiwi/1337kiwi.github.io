{
 "cells": [
  {
   "cell_type": "code",
   "execution_count": 1,
   "metadata": {},
   "outputs": [
    {
     "name": "stderr",
     "output_type": "stream",
     "text": [
      "/Users/kiwi/projects/ctf/ictf/linear_labyrinth/venv/lib/python3.12/site-packages/tqdm/auto.py:21: TqdmWarning: IProgress not found. Please update jupyter and ipywidgets. See https://ipywidgets.readthedocs.io/en/stable/user_install.html\n",
      "  from .autonotebook import tqdm as notebook_tqdm\n"
     ]
    }
   ],
   "source": [
    "import torch\n",
    "import numpy as np\n",
    "import cv2\n",
    "from model import Model\n",
    "import matplotlib.pyplot as plt\n",
    "from art.estimators.classification import PyTorchClassifier\n",
    "from art.attacks.inference.model_inversion.mi_face import MIFace\n"
   ]
  },
  {
   "cell_type": "code",
   "execution_count": 2,
   "metadata": {},
   "outputs": [
    {
     "name": "stderr",
     "output_type": "stream",
     "text": [
      "/var/folders/cf/hc5w25h10pd_8lg71nvgw71m0000gn/T/ipykernel_33654/821160156.py:3: FutureWarning: You are using `torch.load` with `weights_only=False` (the current default value), which uses the default pickle module implicitly. It is possible to construct malicious pickle data which will execute arbitrary code during unpickling (See https://github.com/pytorch/pytorch/blob/main/SECURITY.md#untrusted-models for more details). In a future release, the default value for `weights_only` will be flipped to `True`. This limits the functions that could be executed during unpickling. Arbitrary objects will no longer be allowed to be loaded via this mode unless they are explicitly allowlisted by the user via `torch.serialization.add_safe_globals`. We recommend you start setting `weights_only=True` for any use case where you don't have full control of the loaded file. Please open an issue on GitHub for any issues related to this experimental feature.\n",
      "  model.load_state_dict(torch.load('model.pth'))\n"
     ]
    },
    {
     "data": {
      "text/plain": [
       "Model(\n",
       "  (linear1): Linear(in_features=133, out_features=133, bias=True)\n",
       "  (linear2): Linear(in_features=133, out_features=133, bias=True)\n",
       ")"
      ]
     },
     "execution_count": 2,
     "metadata": {},
     "output_type": "execute_result"
    }
   ],
   "source": [
    "# Load the trained model\n",
    "model = Model()\n",
    "model.load_state_dict(torch.load('model.pth'))\n",
    "model.eval()"
   ]
  },
  {
   "cell_type": "code",
   "execution_count": 3,
   "metadata": {},
   "outputs": [],
   "source": [
    "# Read in out.png\n",
    "out_img = cv2.imread('out.png', cv2.IMREAD_GRAYSCALE).astype(np.float32)\n",
    "out_img_tensor = torch.tensor(out_img, dtype=torch.float32)\n"
   ]
  },
  {
   "cell_type": "code",
   "execution_count": 4,
   "metadata": {},
   "outputs": [],
   "source": [
    "# Start with a an \"average\" image: a value of 0.5 in all pixels\n",
    "# input_img = nn.Parameter(torch.ones(17,133)*.5)\n",
    "input_img = torch.randn_like(out_img_tensor, dtype=torch.float32, requires_grad=True)\n",
    "\n",
    "# Start with a random image\n",
    "# input_img = nn.Parameter(torch.rand(17,133))\n",
    "\n",
    "optimizer = torch.optim.SGD([input_img], lr=0.01, momentum=0.9)\n",
    "\n",
    "# Adadelta requires less tuning of the learning rate\n",
    "# optimizer = torch.optim.Adadelta([input_img], lr=1.0, rho=0.95, eps=1e-6)\n",
    "\n",
    "# Number of iterations for optimization (you can tweak this value)\n",
    "num_iterations = 200000\n",
    "\n",
    "# Loss function, picked MSE https://stackoverflow.com/questions/66220672/what-should-be-the-loss-function-for-image-reconstruction-while-using-unet-archi\n",
    "criterion = torch.nn.MSELoss()\n"
   ]
  },
  {
   "cell_type": "code",
   "execution_count": null,
   "metadata": {},
   "outputs": [
    {
     "name": "stdout",
     "output_type": "stream",
     "text": [
      "Step 0, Loss: 2588.589599609375\n",
      "Step 10000, Loss: 2111.63916015625\n",
      "Step 20000, Loss: 1843.864501953125\n",
      "Step 30000, Loss: 1676.7169189453125\n"
     ]
    }
   ],
   "source": [
    "for step in range(num_iterations):\n",
    "    # Let's start with a fresh gradient for each iteration\n",
    "    optimizer.zero_grad()\n",
    "    \n",
    "    model_output = model(input_img) # model output from the current input image guess\n",
    "    \n",
    "    # MSE between model output and target output\n",
    "    loss = criterion(model_output, out_img_tensor) + model_output.abs().sum()*0.008\n",
    "    \n",
    "    # Backward pass: Compute gradients\n",
    "    loss.backward()\n",
    "    \n",
    "    # Update the input image based on gradients\n",
    "    optimizer.step()\n",
    "\n",
    "    # # Clamp the input image to the range [0, 255]\n",
    "    # input_img.data.clamp_(0, 255)\n",
    "\n",
    "    # Normalize the input image to the range [0, 255]\n",
    "    # input_img.data = (input_img - torch.min(input_img)) / (torch.max(input_img) - torch.min(input_img)) * 255\n",
    "\n",
    "    if step % 10000 == 0:\n",
    "        print(f\"Step {step}, Loss: {loss.item()}\")"
   ]
  },
  {
   "cell_type": "code",
   "execution_count": null,
   "metadata": {},
   "outputs": [
    {
     "data": {
      "text/plain": [
       "<matplotlib.image.AxesImage at 0x14ffddf40>"
      ]
     },
     "execution_count": 18,
     "metadata": {},
     "output_type": "execute_result"
    },
    {
     "data": {
      "image/png": "[encoded data removed]",
      "text/plain": [
       "<Figure size 640x480 with 1 Axes>"
      ]
     },
     "metadata": {},
     "output_type": "display_data"
    }
   ],
   "source": [
    "# After optimization, convert the tensor back to an image\n",
    "recovered_img = input_img.detach().numpy()\n",
    "\n",
    "# Normalize the recovered image to the range [0, 255]\n",
    "recovered_img = (recovered_img - np.min(recovered_img)) / (np.max(recovered_img) - np.min(recovered_img)) * 255\n",
    "\n",
    "# Convert to uint8 and save the recovered image\n",
    "recovered_img = recovered_img.astype(np.uint8)\n",
    "cv2.imwrite('recovered_flag.png', recovered_img)\n",
    "\n",
    "# Display the recovered image in jupyter notebook\n",
    "\n",
    "plt.imshow(recovered_img, cmap='gray')"
   ]
  },
  {
   "cell_type": "code",
   "execution_count": null,
   "metadata": {},
   "outputs": [],
   "source": [
    "weight1 = model.linear1.weight  # Shape: [133, 133]\n",
    "weight2 = model.linear2.weight  # Shape: [133, 133]"
   ]
  },
  {
   "cell_type": "code",
   "execution_count": null,
   "metadata": {},
   "outputs": [
    {
     "name": "stdout",
     "output_type": "stream",
     "text": [
      "torch.Size([17, 133])\n"
     ]
    }
   ],
   "source": [
    "# Print the shape of the image\n",
    "out_image = cv2.imread('out.png', cv2.IMREAD_GRAYSCALE)  # Load as grayscale (0 means grayscale)\n",
    "out_tensor = torch.from_numpy(out_image).float()\n",
    "print(out_tensor.shape)\n"
   ]
  }
 ],
 "metadata": {
  "kernelspec": {
   "display_name": "venv",
   "language": "python",
   "name": "python3"
  },
  "language_info": {
   "codemirror_mode": {
    "name": "ipython",
    "version": 3
   },
   "file_extension": ".py",
   "mimetype": "text/x-python",
   "name": "python",
   "nbconvert_exporter": "python",
   "pygments_lexer": "ipython3",
   "version": "3.12.7"
  }
 },
 "nbformat": 4,
 "nbformat_minor": 2
}
